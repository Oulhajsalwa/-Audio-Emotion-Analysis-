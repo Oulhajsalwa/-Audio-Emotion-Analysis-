{
 "cells": [
  {
   "cell_type": "markdown",
   "metadata": {
    "id": "8Qa5JNAAdwtd"
   },
   "source": [
    "## Preprocessing the SAVEE Data"
   ]
  },
  {
   "cell_type": "code",
   "execution_count": 13,
   "metadata": {
    "id": "8Qa5JNAAdwtd"
   },
   "outputs": [
    {
     "name": "stdout",
     "output_type": "stream",
     "text": [
      "               Filename  Label\n",
      "0  SAVEE/ALL\\DC_a01.wav  anger\n",
      "1  SAVEE/ALL\\DC_a02.wav  anger\n",
      "2  SAVEE/ALL\\DC_a03.wav  anger\n",
      "3  SAVEE/ALL\\DC_a04.wav  anger\n",
      "4  SAVEE/ALL\\DC_a05.wav  anger\n"
     ]
    }
   ],
   "source": [
    "import os\n",
    "\n",
    "import pandas as pd\n",
    "\n",
    "folder_path = \"SAVEE/ALL\"\n",
    "\n",
    "filenames = []\n",
    "labels = []\n",
    "\n",
    "label_mapping = {\n",
    "    \"a\": \"anger\",\n",
    "    \"d\": \"disgust\",\n",
    "    \"f\": \"fear\",\n",
    "    \"h\": \"happiness\",\n",
    "    \"sa\": \"sadness\",\n",
    "    \"su\": \"surprise\",\n",
    "    \"n\": \"neutral\"\n",
    "}\n",
    "\n",
    "for filename in os.listdir(folder_path):\n",
    "  if filename.endswith(\".wav\"):\n",
    "    label = filename.split(\"_\")[1][0]\n",
    "    if label in label_mapping:\n",
    "      label = label_mapping[label]\n",
    "      filename = os.path.join(folder_path, filename)\n",
    "      filenames.append(filename)\n",
    "      labels.append(label)\n",
    "\n",
    "df_savee = pd.DataFrame({'Filename': filenames, 'Label': labels})\n",
    "\n",
    "print(df_savee.head())"
   ]
  },
  {
   "cell_type": "markdown",
   "metadata": {
    "id": "8Qa5JNAAdwtd"
   },
   "source": [
    "## Preprocessing TESS Data"
   ]
  },
  {
   "cell_type": "code",
   "execution_count": 14,
   "metadata": {
    "id": "8Qa5JNAAdwtd"
   },
   "outputs": [
    {
     "name": "stdout",
     "output_type": "stream",
     "text": [
      "                                            Filename  Label\n",
      "0  TESS/TESS Toronto emotional speech set data\\OA...  anger\n",
      "1  TESS/TESS Toronto emotional speech set data\\OA...  anger\n",
      "2  TESS/TESS Toronto emotional speech set data\\OA...  anger\n",
      "3  TESS/TESS Toronto emotional speech set data\\OA...  anger\n",
      "4  TESS/TESS Toronto emotional speech set data\\OA...  anger\n"
     ]
    }
   ],
   "source": [
    "# Define the base folder path\n",
    "base_folder_path = \"TESS/TESS Toronto emotional speech set data\"\n",
    "\n",
    "# Initialize empty lists to store absolute file paths and labels\n",
    "filepaths = []\n",
    "labels = []\n",
    "\n",
    "label_mapping = {\n",
    "    'Sad': 'sadness',\n",
    "    'fear': 'fear',\n",
    "    'Fear': 'fear',\n",
    "    'happy': 'happiness',\n",
    "    'angry': 'anger',\n",
    "    'neutral': 'neutral',\n",
    "    'disgust': 'disgust',\n",
    "    'surprise': 'surprise',\n",
    "    'sad': 'sadness',\n",
    "    'surprised': 'surprise'\n",
    "}\n",
    "\n",
    "for subfolder in os.listdir(base_folder_path):\n",
    "    subfolder_path = os.path.join(base_folder_path, subfolder)\n",
    "\n",
    "    if os.path.isdir(subfolder_path):\n",
    "        label = subfolder.split(\"_\")[-1]\n",
    "        if label in label_mapping:\n",
    "            label = label_mapping[label]\n",
    "        for filename in os.listdir(subfolder_path):\n",
    "            if filename.endswith(\".wav\"):\n",
    "                filepath = os.path.join(subfolder_path, filename)\n",
    "                filepaths.append(filepath)\n",
    "                labels.append(label)\n",
    "\n",
    "df_tess = pd.DataFrame({'Filename': filepaths, 'Label': labels})\n",
    "\n",
    "# Display the DataFrame\n",
    "print(df_tess.head())"
   ]
  },
  {
   "cell_type": "markdown",
   "metadata": {
    "id": "8Qa5JNAAdwtd"
   },
   "source": [
    "## Preprocess cremad data."
   ]
  },
  {
   "cell_type": "code",
   "execution_count": 15,
   "metadata": {
    "id": "8Qa5JNAAdwtd"
   },
   "outputs": [
    {
     "name": "stdout",
     "output_type": "stream",
     "text": [
      "                              Filename      Label\n",
      "0  cremad/AudioWAV\\1001_DFA_ANG_XX.wav      anger\n",
      "1  cremad/AudioWAV\\1001_DFA_DIS_XX.wav    disgust\n",
      "2  cremad/AudioWAV\\1001_DFA_FEA_XX.wav       fear\n",
      "3  cremad/AudioWAV\\1001_DFA_HAP_XX.wav  happiness\n",
      "4  cremad/AudioWAV\\1001_DFA_NEU_XX.wav    neutral\n"
     ]
    }
   ],
   "source": [
    "folder_path = \"cremad/AudioWAV\"\n",
    "\n",
    "# Initialize empty lists to store absolute file paths and labels\n",
    "filepaths = []\n",
    "labels = []\n",
    "\n",
    "# Define a mapping of labels to emotions\n",
    "label_mapping = {\n",
    "    'ANG': 'anger',\n",
    "    'DIS': 'disgust',\n",
    "    'FEA': 'fear',\n",
    "    'HAP': 'happiness',\n",
    "    'NEU': 'neutral',\n",
    "    'SAD': 'sadness',\n",
    "}\n",
    "\n",
    "# Iterate through the files in the folder\n",
    "for filename in os.listdir(folder_path):\n",
    "    if filename.endswith(\".wav\"):\n",
    "        label = filename.split(\"_\")[2]\n",
    "        if label in label_mapping:\n",
    "            label = label_mapping[label]  # Map label to emotion\n",
    "            filepath = os.path.join(folder_path, filename)  # Create absolute file path\n",
    "            filepaths.append(filepath)\n",
    "            labels.append(label)\n",
    "\n",
    "# Create a Pandas DataFrame\n",
    "df_cremad = pd.DataFrame({'Filename': filepaths, 'Label': labels})\n",
    "\n",
    "# Display the DataFrame\n",
    "print(df_cremad.head())"
   ]
  },
  {
   "cell_type": "markdown",
   "metadata": {
    "id": "8Qa5JNAAdwtd"
   },
   "source": [
    "## Prepare the data"
   ]
  },
  {
   "cell_type": "code",
   "execution_count": 16,
   "metadata": {
    "id": "8Qa5JNAAdwtd"
   },
   "outputs": [
    {
     "name": "stdout",
     "output_type": "stream",
     "text": [
      "                              Filename      Label\n",
      "0  cremad/AudioWAV\\1001_DFA_ANG_XX.wav      anger\n",
      "1  cremad/AudioWAV\\1001_DFA_DIS_XX.wav    disgust\n",
      "2  cremad/AudioWAV\\1001_DFA_FEA_XX.wav       fear\n",
      "3  cremad/AudioWAV\\1001_DFA_HAP_XX.wav  happiness\n",
      "4  cremad/AudioWAV\\1001_DFA_NEU_XX.wav    neutral\n"
     ]
    }
   ],
   "source": [
    "merged_df = pd.concat([df_cremad, df_savee, df_tess], ignore_index=True)\n",
    "merged_df.reset_index(drop=True, inplace=True)\n",
    "print(merged_df.head())"
   ]
  },
  {
   "cell_type": "code",
   "execution_count": 19,
   "metadata": {
    "id": "8Qa5JNAAdwtd"
   },
   "outputs": [
    {
     "data": {
      "image/png": "[encoded data removed]",
      "text/plain": [
       "<Figure size 1000x600 with 1 Axes>"
      ]
     },
     "metadata": {},
     "output_type": "display_data"
    }
   ],
   "source": [
    "# Plot\n",
    "\n",
    "import matplotlib.pyplot as plt\n",
    "label_counts = merged_df['Label'].value_counts()\n",
    "label_counts.plot(kind='bar', figsize=(10, 6))\n",
    "plt.title('Label Distribution')\n",
    "plt.xlabel('Emotion')\n",
    "plt.ylabel('Count')\n",
    "plt.xticks(rotation=45)\n",
    "plt.tight_layout()\n",
    "plt.savefig('label_distribution.png', dpi=300)\n",
    "plt.show()"
   ]
  },
  {
   "cell_type": "code",
   "execution_count": null,
   "metadata": {
    "id": "8Qa5JNAAdwtd"
   },
   "outputs": [],
   "source": [
    "merged_df.to_csv('file_paths_labels.csv', index=False, header=True)"
   ]
  }
 ],
 "metadata": {
  "colab": {
   "provenance": []
  },
  "kernelspec": {
   "display_name": "Python 3 (ipykernel)",
   "language": "python",
   "name": "python3"
  },
  "language_info": {
   "codemirror_mode": {
    "name": "ipython",
    "version": 3
   },
   "file_extension": ".py",
   "mimetype": "text/x-python",
   "name": "python",
   "nbconvert_exporter": "python",
   "pygments_lexer": "ipython3",
   "version": "3.10.11"
  }
 },
 "nbformat": 4,
 "nbformat_minor": 4
}
